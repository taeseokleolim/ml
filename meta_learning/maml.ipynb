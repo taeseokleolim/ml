{
 "cells": [
  {
   "cell_type": "code",
   "execution_count": null,
   "metadata": {},
   "outputs": [],
   "source": [
    "import torch\n",
    "from torch import nn, optim\n",
    "\n",
    "class LinearModel(nn.Module):\n",
    "    def __init__(self):\n",
    "        super(LinearModel, self).__init__()\n",
    "        self.layer = nn.Linear(1, 1)\n",
    "\n",
    "    def forward(self, x):\n",
    "        return self.layer(x)\n",
    "\n",
    "def maml(model, optimizer, data, num_steps=1, step_size=0.01):\n",
    "    # Create a copy of the model that has the same weights but does not share gradients\n",
    "    model_copy = copy.deepcopy(model)\n",
    "    model_copy.train()\n",
    "\n",
    "    # Perform inner loop adaptation\n",
    "    for _ in range(num_steps):\n",
    "        predictions = model_copy(data['x'])\n",
    "        loss = nn.MSELoss()(predictions, data['y'])\n",
    "        model_copy.zero_grad()\n",
    "        loss.backward()\n",
    "        for param in model_copy.parameters():\n",
    "            param.data -= step_size * param.grad.data\n",
    "\n",
    "    # Compute the meta-gradient and update the meta-parameters\n",
    "    meta_predictions = model_copy(data['x'])\n",
    "    meta_loss = nn.MSELoss()(meta_predictions, data['y'])\n",
    "    optimizer.zero_grad()\n",
    "    meta_loss.backward()\n",
    "    optimizer.step()\n",
    "\n",
    "    return model\n",
    "\n",
    "# Initialize the model and optimizer\n",
    "model = LinearModel()\n",
    "optimizer = optim.Adam(model.parameters(), lr=0.001)\n",
    "\n",
    "# Define the data\n",
    "data = {'x': torch.randn(10, 1), 'y': torch.randn(10, 1)}\n",
    "\n",
    "# Perform MAML\n",
    "model = maml(model, optimizer, data)"
   ]
  },
  {
   "cell_type": "code",
   "execution_count": null,
   "metadata": {},
   "outputs": [],
   "source": []
  }
 ],
 "metadata": {
  "kernelspec": {
   "display_name": "manatee",
   "language": "python",
   "name": "python3"
  },
  "language_info": {
   "name": "python",
   "version": "3.11.9"
  }
 },
 "nbformat": 4,
 "nbformat_minor": 2
}
