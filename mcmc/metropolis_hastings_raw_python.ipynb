{
 "cells": [
  {
   "cell_type": "code",
   "execution_count": null,
   "metadata": {},
   "outputs": [],
   "source": []
  },
  {
   "cell_type": "markdown",
   "metadata": {},
   "source": [
    "To write math formulas in a Jupyter Notebook markdown cell, you can use LaTeX syntax. LaTeX is a typesetting system commonly used for mathematical and scientific documents.\n",
    "\n",
    "Here's an example of how to write a math formula using LaTeX syntax:\n",
    "\n",
    "```markdown\n",
    "The quadratic formula is given by:\n",
    "\n",
    "$$x = \\frac{-b \\pm \\sqrt{b^2 - 4ac}}{2a}$$\n",
    "\n",
    "where $a$, $b$, and $c$ are coefficients of a quadratic equation.\n",
    "```"
   ]
  },
  {
   "cell_type": "code",
   "execution_count": 1,
   "metadata": {},
   "outputs": [],
   "source": [
    "import numpy as np"
   ]
  },
  {
   "cell_type": "code",
   "execution_count": 4,
   "metadata": {},
   "outputs": [],
   "source": [
    "# data generation\n",
    "b0 = 1\n",
    "b1 = 0.5\n",
    "x = np.random.random(100)\n",
    "y = b0 + b1*x + np.random.normal(0, 0.2, 100)"
   ]
  },
  {
   "cell_type": "code",
   "execution_count": null,
   "metadata": {},
   "outputs": [],
   "source": [
    "def nll(data, params):\n",
    "    x = data['x']\n",
    "    y = data['y']\n",
    "    b0 = params['b0']\n",
    "    b1 = params['b1']\n",
    "    "
   ]
  }
 ],
 "metadata": {
  "kernelspec": {
   "display_name": "manatee",
   "language": "python",
   "name": "python3"
  },
  "language_info": {
   "codemirror_mode": {
    "name": "ipython",
    "version": 3
   },
   "file_extension": ".py",
   "mimetype": "text/x-python",
   "name": "python",
   "nbconvert_exporter": "python",
   "pygments_lexer": "ipython3",
   "version": "3.11.9"
  }
 },
 "nbformat": 4,
 "nbformat_minor": 2
}
