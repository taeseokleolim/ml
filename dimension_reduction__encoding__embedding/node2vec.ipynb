{
 "cells": [
  {
   "cell_type": "code",
   "execution_count": 2,
   "metadata": {},
   "outputs": [],
   "source": [
    "import numpy as np\n",
    "from gensim.models import Word2Vec\n",
    "\n",
    "# Suppose we have the following adjacency matrix for a graph:\n",
    "adjacency_matrix = np.array([\n",
    "    [0, 1, 0, 0, 1],\n",
    "    [1, 0, 1, 0, 1],\n",
    "    [0, 1, 0, 1, 0],\n",
    "    [0, 0, 1, 0, 1],\n",
    "    [1, 1, 0, 1, 0],\n",
    "])\n",
    "\n",
    "# We can generate random walks like so:\n",
    "def generate_walks(adjacency_matrix, walk_length, num_walks):\n",
    "    num_nodes = adjacency_matrix.shape[0]\n",
    "    walks = []\n",
    "    for _ in range(num_walks):\n",
    "        for starting_node in range(num_nodes):\n",
    "            walk = [starting_node]\n",
    "            for _ in range(walk_length - 1):\n",
    "                possible_next_nodes = np.where(adjacency_matrix[walk[-1]] == 1)[0]\n",
    "                next_node = np.random.choice(possible_next_nodes)\n",
    "                walk.append(next_node)\n",
    "            walks.append(walk)\n",
    "    return walks\n",
    "\n",
    "walks = generate_walks(adjacency_matrix, walk_length=10, num_walks=10)\n",
    "\n",
    "# Convert node numbers to string to use with gensim Word2Vec\n",
    "walks = [[str(node) for node in walk] for walk in walks]\n",
    "\n",
    "# Train a Word2Vec model with gensim on these walks\n",
    "model = Word2Vec(walks, window=10, min_count=0, sg=1, workers=4)\n",
    "\n",
    "# Get vector for a node\n",
    "vector = model.wv['2']\n",
    "\n",
    "# Save model for later use\n",
    "model.save(\"node2vec.model\")"
   ]
  },
  {
   "cell_type": "code",
   "execution_count": null,
   "metadata": {},
   "outputs": [],
   "source": []
  }
 ],
 "metadata": {
  "kernelspec": {
   "display_name": "manatee",
   "language": "python",
   "name": "python3"
  },
  "language_info": {
   "codemirror_mode": {
    "name": "ipython",
    "version": 3
   },
   "file_extension": ".py",
   "mimetype": "text/x-python",
   "name": "python",
   "nbconvert_exporter": "python",
   "pygments_lexer": "ipython3",
   "version": "3.11.9"
  }
 },
 "nbformat": 4,
 "nbformat_minor": 2
}
