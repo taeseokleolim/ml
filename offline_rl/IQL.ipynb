{
 "cells": [
  {
   "cell_type": "code",
   "execution_count": null,
   "metadata": {},
   "outputs": [],
   "source": [
    "import d3rlpy\n",
    "\n",
    "# load dataset\n",
    "observations, actions, rewards, terminals = \"\"\n",
    "\n",
    "\n",
    "dataset = d3rlpy.dataset.MDPDataset(\n",
    "        observations = observations,\n",
    "        actions = actions,\n",
    "        rewards = rewards,\n",
    "        terminals = terminals,\n",
    "    )\n",
    "\n",
    "model = d3rlpy.algos.IQLConfig(actor_encoder_factory=d3rlpy.models.encoders.VectorEncoderFactory(\n",
    "            hidden_units=[32],\n",
    "            dropout_rate=0.2),).create(device='cuda:0')\n",
    "\n",
    "# setup algorithm\n",
    "model.fit(\n",
    "    dataset=dataset, \n",
    "    n_steps=int(1e3),\n",
    "    n_steps_per_epoch=int(1e2),\n",
    "    show_progress=True,\n",
    ")"
   ]
  }
 ],
 "metadata": {
  "kernelspec": {
   "display_name": "manatee",
   "language": "python",
   "name": "python3"
  },
  "language_info": {
   "name": "python",
   "version": "3.11.9"
  }
 },
 "nbformat": 4,
 "nbformat_minor": 2
}
