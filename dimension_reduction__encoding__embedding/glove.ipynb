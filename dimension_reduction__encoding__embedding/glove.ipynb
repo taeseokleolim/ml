{
 "cells": [
  {
   "cell_type": "code",
   "execution_count": 3,
   "metadata": {},
   "outputs": [
    {
     "name": "stderr",
     "output_type": "stream",
     "text": [
      "/root/anaconda3/envs/manatee/lib/python3.11/site-packages/torchtext/vocab/__init__.py:4: UserWarning: \n",
      "/!\\ IMPORTANT WARNING ABOUT TORCHTEXT STATUS /!\\ \n",
      "Torchtext is deprecated and the last released version will be 0.18 (this one). You can silence this warning by calling the following at the beginnign of your scripts: `import torchtext; torchtext.disable_torchtext_deprecation_warning()`\n",
      "  warnings.warn(torchtext._TORCHTEXT_DEPRECATION_MSG)\n",
      "/root/anaconda3/envs/manatee/lib/python3.11/site-packages/torchtext/utils.py:4: UserWarning: \n",
      "/!\\ IMPORTANT WARNING ABOUT TORCHTEXT STATUS /!\\ \n",
      "Torchtext is deprecated and the last released version will be 0.18 (this one). You can silence this warning by calling the following at the beginnign of your scripts: `import torchtext; torchtext.disable_torchtext_deprecation_warning()`\n",
      "  warnings.warn(torchtext._TORCHTEXT_DEPRECATION_MSG)\n",
      ".vector_cache/glove.6B.zip: 862MB [02:48, 5.12MB/s]                               \n",
      "100%|█████████▉| 399999/400000 [00:08<00:00, 47150.94it/s]\n"
     ]
    },
    {
     "name": "stdout",
     "output_type": "stream",
     "text": [
      "tensor([-0.3850,  0.8009,  0.0641, -0.2835, -0.0268, -0.3453, -0.6425, -0.1173,\n",
      "        -0.3326,  0.5524, -0.0878,  0.9035,  0.4710,  0.5666,  0.6985, -0.3523,\n",
      "        -0.8654,  0.9057,  0.0358, -0.0717, -0.1233,  0.5492,  0.4701,  0.3557,\n",
      "         1.2611, -0.6758, -0.9498,  0.6867,  0.3871, -1.3492,  0.6351,  0.4642,\n",
      "        -0.4881,  0.8383, -0.9246, -0.3372,  0.5374, -1.0616, -0.0814, -0.6711,\n",
      "         0.3092, -0.3923, -0.5500, -0.6883,  0.5805, -0.1163,  0.0131, -0.5765,\n",
      "         0.0488,  0.6720])\n"
     ]
    }
   ],
   "source": [
    "import torch\n",
    "from torchtext.vocab import GloVe\n",
    "\n",
    "# Load the GloVe vectors\n",
    "glove = GloVe(name='6B', dim=50)\n",
    "\n",
    "# Get the vector for a word\n",
    "vector = glove['hello']\n",
    "\n",
    "print(vector)"
   ]
  },
  {
   "cell_type": "code",
   "execution_count": null,
   "metadata": {},
   "outputs": [],
   "source": []
  }
 ],
 "metadata": {
  "kernelspec": {
   "display_name": "manatee",
   "language": "python",
   "name": "python3"
  },
  "language_info": {
   "codemirror_mode": {
    "name": "ipython",
    "version": 3
   },
   "file_extension": ".py",
   "mimetype": "text/x-python",
   "name": "python",
   "nbconvert_exporter": "python",
   "pygments_lexer": "ipython3",
   "version": "3.11.9"
  }
 },
 "nbformat": 4,
 "nbformat_minor": 2
}
